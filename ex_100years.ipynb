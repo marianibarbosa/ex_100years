{
 "cells": [
  {
   "cell_type": "code",
   "execution_count": 1,
   "id": "6ff9abbb-21a6-4337-8d9a-35f354bc772f",
   "metadata": {},
   "outputs": [
    {
     "name": "stdin",
     "output_type": "stream",
     "text": [
      "Enter your name:  Mariani\n"
     ]
    },
    {
     "name": "stdout",
     "output_type": "stream",
     "text": [
      "Your name is Mariani\n"
     ]
    }
   ],
   "source": [
    "name = input(\"Enter your name: \")\n",
    "print(\"Your name is \"+ name)"
   ]
  },
  {
   "cell_type": "code",
   "execution_count": 3,
   "id": "7f23020b-44e7-463d-b88b-f15df5dff4ea",
   "metadata": {},
   "outputs": [
    {
     "name": "stdin",
     "output_type": "stream",
     "text": [
      "Enter your age:  29\n"
     ]
    }
   ],
   "source": [
    "age = input(\"Enter your age: \")\n",
    "age = int(age)"
   ]
  },
  {
   "cell_type": "code",
   "execution_count": 27,
   "id": "f08f2d41-d597-4ce5-ab1d-36c04da31edd",
   "metadata": {},
   "outputs": [
    {
     "name": "stdin",
     "output_type": "stream",
     "text": [
      "What year are we in? (YYYY)  2025\n",
      "Have your birthday passed this year? Y/N N\n"
     ]
    },
    {
     "name": "stdout",
     "output_type": "stream",
     "text": [
      "You will be  30 years old this year, and 100 in  70 years, in 2095\n"
     ]
    }
   ],
   "source": [
    "year = input(\"What year are we in? (YYYY) \") \n",
    "year = int(year)\n",
    "birth = input(\"Have your birthday passed this year? Y/N\")\n",
    "if birth == (\"y\", \"Y\"):\n",
    "    year = int(year)\n",
    "    sec = 100 - age\n",
    "    sec1 = year + sec\n",
    "    print(\"You are \",age,\"years old. You'll be 100 in \", sec, \"years, in\", sec1)\n",
    "else:\n",
    "    age1 = age + 1\n",
    "    sec2 = 100 - age1\n",
    "    sec3 = year + sec2\n",
    "    print(\"You will be \",age1,\"years old this year, and 100 in \",sec2, \"years, in\", sec3)"
   ]
  },
  {
   "cell_type": "code",
   "execution_count": null,
   "id": "23e8b628-c1ad-4147-b4d3-38d13a811de6",
   "metadata": {},
   "outputs": [],
   "source": []
  }
 ],
 "metadata": {
  "kernelspec": {
   "display_name": "anaconda-2024.02-py310",
   "language": "python",
   "name": "conda-env-anaconda-2024.02-py310-py"
  },
  "language_info": {
   "codemirror_mode": {
    "name": "ipython",
    "version": 3
   },
   "file_extension": ".py",
   "mimetype": "text/x-python",
   "name": "python",
   "nbconvert_exporter": "python",
   "pygments_lexer": "ipython3",
   "version": "3.10.14"
  }
 },
 "nbformat": 4,
 "nbformat_minor": 5
}
